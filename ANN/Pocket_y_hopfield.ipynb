{
  "nbformat": 4,
  "nbformat_minor": 0,
  "metadata": {
    "colab": {
      "name": "Pocket y hopfield.ipynb",
      "provenance": [],
      "authorship_tag": "ABX9TyNuQ3AkHXLK/4kOoTSaiDX/",
      "include_colab_link": true
    },
    "kernelspec": {
      "name": "python3",
      "display_name": "Python 3"
    }
  },
  "cells": [
    {
      "cell_type": "markdown",
      "metadata": {
        "id": "view-in-github",
        "colab_type": "text"
      },
      "source": [
        "<a href=\"https://colab.research.google.com/github/Shashank2909/Sem-vii/blob/main/ANN/Pocket_y_hopfield.ipynb\" target=\"_parent\"><img src=\"https://colab.research.google.com/assets/colab-badge.svg\" alt=\"Open In Colab\"/></a>"
      ]
    },
    {
      "cell_type": "code",
      "metadata": {
        "colab": {
          "base_uri": "https://localhost:8080/"
        },
        "id": "d-H3Pi91NRpo",
        "outputId": "79226b16-c6fd-40d3-8bf5-a282f7a637d9"
      },
      "source": [
        "import numpy as np\r\n",
        "\r\n",
        "\r\n",
        "w = np.array([1, -1, 0, 0.5])\r\n",
        "C = 0.1\r\n",
        "D = [-1, -1, 1]\r\n",
        "X = np.array([\r\n",
        "    [ 1.0, -2.0,  0.0, -1.0],\r\n",
        "    [ 0.0,  1.5, -0.5, -1.0],\r\n",
        "    [-1.0,  1.0,  0.5, -1.0]\r\n",
        "])\r\n",
        "\r\n",
        "pocket = w\r\n",
        "run_length = 0\r\n",
        "best_run_length = 0\r\n",
        "\r\n",
        "def f(net):\r\n",
        "    return 2 * (net > 0) -1\r\n",
        "\r\n",
        "for epoch in range(5):\r\n",
        "    print('\\nepoch #', epoch+1)\r\n",
        "    for x, d in zip(X, D):\r\n",
        "        r = d - f(w.T @ x)\r\n",
        "        if r == 0:\r\n",
        "            run_length += 1\r\n",
        "        if r != 0:\r\n",
        "            if run_length > best_run_length:\r\n",
        "                best_run_length = run_length\r\n",
        "                pocket = w.copy()\r\n",
        "            w += C * r * x\r\n",
        "            run_length = 0\r\n",
        "        print(w,'run length:', run_length)\r\n",
        "    print('pocket:', pocket)\r\n",
        "for x, d in zip(X, D):\r\n",
        "    print(f'\\ninput: {x} f(net)={f(w.T @ x)} d={d}')\r\n"
      ],
      "execution_count": 1,
      "outputs": [
        {
          "output_type": "stream",
          "text": [
            "\n",
            "epoch # 1\n",
            "[ 0.8 -0.6  0.   0.7] run length: 0\n",
            "[ 0.8 -0.6  0.   0.7] run length: 1\n",
            "[ 0.6 -0.4  0.1  0.5] run length: 0\n",
            "pocket: [ 0.8 -0.6  0.   0.7]\n",
            "\n",
            "epoch # 2\n",
            "[4.00000000e-01 5.55111512e-17 1.00000000e-01 7.00000000e-01] run length: 0\n",
            "[4.00000000e-01 5.55111512e-17 1.00000000e-01 7.00000000e-01] run length: 1\n",
            "[0.2 0.2 0.2 0.5] run length: 0\n",
            "pocket: [ 0.8 -0.6  0.   0.7]\n",
            "\n",
            "epoch # 3\n",
            "[0.2 0.2 0.2 0.5] run length: 1\n",
            "[0.2 0.2 0.2 0.5] run length: 2\n",
            "[5.55111512e-17 4.00000000e-01 3.00000000e-01 3.00000000e-01] run length: 0\n",
            "pocket: [0.2 0.2 0.2 0.5]\n",
            "\n",
            "epoch # 4\n",
            "[5.55111512e-17 4.00000000e-01 3.00000000e-01 3.00000000e-01] run length: 1\n",
            "[5.55111512e-17 1.00000000e-01 4.00000000e-01 5.00000000e-01] run length: 0\n",
            "[-0.2  0.3  0.5  0.3] run length: 0\n",
            "pocket: [0.2 0.2 0.2 0.5]\n",
            "\n",
            "epoch # 5\n",
            "[-0.2  0.3  0.5  0.3] run length: 1\n",
            "[-0.2  0.3  0.5  0.3] run length: 2\n",
            "[-0.2  0.3  0.5  0.3] run length: 3\n",
            "pocket: [0.2 0.2 0.2 0.5]\n",
            "\n",
            "input: [ 1. -2.  0. -1.] f(net)=-1 d=-1\n",
            "\n",
            "input: [ 0.   1.5 -0.5 -1. ] f(net)=-1 d=-1\n",
            "\n",
            "input: [-1.   1.   0.5 -1. ] f(net)=1 d=1\n"
          ],
          "name": "stdout"
        }
      ]
    },
    {
      "cell_type": "code",
      "metadata": {
        "colab": {
          "base_uri": "https://localhost:8080/"
        },
        "id": "71cf2CM9NbPG",
        "outputId": "96ebe6fd-a586-42a3-e73c-eae150f7fae2"
      },
      "source": [
        "import numpy as np\r\n",
        "\r\n",
        "def sign(net):\r\n",
        "    return 2 * (net >= 0) -1\r\n",
        "\r\n",
        "X = np.array([\r\n",
        "    [ 1,  1,  1, -1],\r\n",
        "    [-1, -1, -1,  1],\r\n",
        "    [ 1,  1,  1,  1],\r\n",
        "    [ 1,  1, -1, -1],\r\n",
        "    [ 1, -1,  1, -1],\r\n",
        "    [-1,  1,  1, -1]\r\n",
        "])\r\n",
        "\r\n",
        "n = len(X[0])\r\n",
        "P = len(X)\r\n",
        "W = np.zeros((n, n))\r\n",
        "\r\n",
        "def sign(net):\r\n",
        "    return 2 * (net > 0) -1\r\n",
        "\r\n",
        "for i in range(n):\r\n",
        "    for j in range(n):\r\n",
        "        W[i, j] = np.sum(X[:, i] * X[:, j]) / P\r\n",
        "\r\n",
        "I = np.random.uniform(-1, 1, (10, 4))\r\n",
        "print('stored vectors:\\n', X)\r\n",
        "for i in I:\r\n",
        "    print('\\ninput:', i)\r\n",
        "    o = i\r\n",
        "    while o not in X:\r\n",
        "        o = sign(W @ o)\r\n",
        "    print('output:', o)"
      ],
      "execution_count": 2,
      "outputs": [
        {
          "output_type": "stream",
          "text": [
            "stored vectors:\n",
            " [[ 1  1  1 -1]\n",
            " [-1 -1 -1  1]\n",
            " [ 1  1  1  1]\n",
            " [ 1  1 -1 -1]\n",
            " [ 1 -1  1 -1]\n",
            " [-1  1  1 -1]]\n",
            "\n",
            "input: [-0.35835058  0.88745483 -0.17174267  0.27872111]\n",
            "output: [-1  1 -1  1]\n",
            "\n",
            "input: [-0.30825935 -0.55237565  0.44424953 -0.82444209]\n",
            "output: [-1 -1  1 -1]\n",
            "\n",
            "input: [-0.28136525  0.77922905  0.79181421 -0.59562622]\n",
            "output: [ 1  1  1 -1]\n",
            "\n",
            "input: [ 0.78412218  0.38610726 -0.16826201  0.51569274]\n",
            "output: [1 1 1 1]\n",
            "\n",
            "input: [-0.33583058 -0.28947906 -0.92323059 -0.00183502]\n",
            "output: [-1 -1 -1  1]\n",
            "\n",
            "input: [ 0.81776902  0.10954764  0.46028116 -0.96007779]\n",
            "output: [ 1  1  1 -1]\n",
            "\n",
            "input: [-0.97169392 -0.29946806 -0.73838421  0.78743095]\n",
            "output: [-1 -1 -1  1]\n",
            "\n",
            "input: [-0.4868693   0.09016391  0.64770956 -0.76205865]\n",
            "output: [ 1  1  1 -1]\n",
            "\n",
            "input: [ 0.29267071  0.32715369  0.43334201 -0.94786921]\n",
            "output: [ 1  1  1 -1]\n",
            "\n",
            "input: [-0.25666791 -0.5721559   0.8652713  -0.45946916]\n",
            "output: [-1 -1  1 -1]\n"
          ],
          "name": "stdout"
        }
      ]
    },
    {
      "cell_type": "code",
      "metadata": {
        "id": "KEczGP6KO1U_"
      },
      "source": [
        ""
      ],
      "execution_count": null,
      "outputs": []
    }
  ]
}