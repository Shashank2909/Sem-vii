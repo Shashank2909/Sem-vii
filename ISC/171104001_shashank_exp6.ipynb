{
  "nbformat": 4,
  "nbformat_minor": 0,
  "metadata": {
    "colab": {
      "name": "171104001_shashank_exp6.ipynb",
      "provenance": []
    },
    "kernelspec": {
      "name": "python3",
      "display_name": "Python 3"
    }
  },
  "cells": [
    {
      "cell_type": "code",
      "metadata": {
        "id": "h-GQlK9HzXoT"
      },
      "source": [
        "import numpy as np"
      ],
      "execution_count": 2,
      "outputs": []
    },
    {
      "cell_type": "code",
      "metadata": {
        "id": "JXnXnSKGzgbO",
        "colab": {
          "base_uri": "https://localhost:8080/"
        },
        "outputId": "57514953-f161-4263-aa9b-710ff5eb4cfe"
      },
      "source": [
        "x_input = np.array([[1, -2, 0, -1], [0, 1.5, -0.5, -1], [-1, 1, 0.5, -1]])\n",
        "w = np.array([1,-1, 0, 0.5])\n",
        "c = 0.1\n",
        "d = [-1, -1, 1]\n",
        "print(f'w : {w}')\n",
        "i=0\n",
        "epochs=5\n",
        "for n in range(epochs):\n",
        "  print('EPOCH-{}'.format(n))\n",
        "  for x in x_input:\n",
        "\n",
        "    print(f'x :{x}')\n",
        "    \n",
        "    #net = sum(w.T * x)\n",
        "    net = w.T @ x\n",
        "    #net = np.dot(x,w.T)\n",
        "\n",
        "    w = w + c *net * x\n",
        "    print(f'NEW WEIGHTS : {w}')  \n",
        "\n",
        "  "
      ],
      "execution_count": 18,
      "outputs": [
        {
          "output_type": "stream",
          "text": [
            "w : [ 1.  -1.   0.   0.5]\n",
            "EPOCH-0\n",
            "x :[ 1. -2.  0. -1.]\n",
            "NEW WEIGHTS : [ 1.25 -1.5   0.    0.25]\n",
            "x :[ 0.   1.5 -0.5 -1. ]\n",
            "NEW WEIGHTS : [ 1.25  -1.875  0.125  0.5  ]\n",
            "x :[-1.   1.   0.5 -1. ]\n",
            "NEW WEIGHTS : [ 1.60625  -2.23125  -0.053125  0.85625 ]\n",
            "EPOCH-1\n",
            "x :[ 1. -2.  0. -1.]\n",
            "NEW WEIGHTS : [ 2.1275   -3.27375  -0.053125  0.335   ]\n",
            "x :[ 0.   1.5 -0.5 -1. ]\n",
            "NEW WEIGHTS : [ 2.1275     -4.05660938  0.20782813  0.85690625]\n",
            "x :[-1.   1.   0.5 -1. ]\n",
            "NEW WEIGHTS : [ 2.82121016 -4.75031953 -0.13902695  1.55061641]\n",
            "EPOCH-2\n",
            "x :[ 1. -2.  0. -1.]\n",
            "NEW WEIGHTS : [ 3.89833344 -6.90456609 -0.13902695  0.47349312]\n",
            "x :[ 0.   1.5 -0.5 -1. ]\n",
            "NEW WEIGHTS : [ 3.89833344 -8.51869041  0.39901449  1.549576  ]\n",
            "x :[-1.   1.   0.5 -1. ]\n",
            "NEW WEIGHTS : [ 5.2750427  -9.89539967 -0.28934014  2.92628526]\n",
            "EPOCH-3\n",
            "x :[ 1. -2.  0. -1.]\n",
            "NEW WEIGHTS : [  7.48899838 -14.32331103  -0.28934014   0.71232959]\n",
            "x :[ 0.   1.5 -0.5 -1. ]\n",
            "NEW WEIGHTS : [  7.48899838 -17.63120494   0.81329116   2.91759219]\n",
            "x :[-1.   1.   0.5 -1. ]\n",
            "NEW WEIGHTS : [ 10.25211337 -20.39431993  -0.56826634   5.68070719]\n",
            "EPOCH-4\n",
            "x :[ 1. -2.  0. -1.]\n",
            "NEW WEIGHTS : [ 14.78811797 -29.46632914  -0.56826634   1.14470258]\n",
            "x :[ 0.   1.5 -0.5 -1. ]\n",
            "NEW WEIGHTS : [ 14.78811797 -36.22533861   1.68473682   5.65070889]\n",
            "x :[-1.   1.   0.5 -1. ]\n",
            "NEW WEIGHTS : [ 20.37029768 -41.80751831  -1.10635303  11.2328886 ]\n"
          ],
          "name": "stdout"
        }
      ]
    },
    {
      "cell_type": "code",
      "metadata": {
        "id": "8-7BCwMQh92g"
      },
      "source": [
        ""
      ],
      "execution_count": null,
      "outputs": []
    }
  ]
}