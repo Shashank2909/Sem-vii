{
  "nbformat": 4,
  "nbformat_minor": 0,
  "metadata": {
    "colab": {
      "name": "171104001_shashank_exp6.ipynb",
      "provenance": [],
      "include_colab_link": true
    },
    "kernelspec": {
      "name": "python3",
      "display_name": "Python 3"
    }
  },
  "cells": [
    {
      "cell_type": "markdown",
      "metadata": {
        "id": "view-in-github",
        "colab_type": "text"
      },
      "source": [
        "<a href=\"https://colab.research.google.com/github/Shashank2909/Sem-vii/blob/main/ISC/171104001_shashank_exp6.ipynb\" target=\"_parent\"><img src=\"https://colab.research.google.com/assets/colab-badge.svg\" alt=\"Open In Colab\"/></a>"
      ]
    },
    {
      "cell_type": "code",
      "metadata": {
        "id": "h-GQlK9HzXoT"
      },
      "source": [
        "import numpy as np"
      ],
      "execution_count": 2,
      "outputs": []
    },
    {
      "cell_type": "code",
      "metadata": {
        "id": "JXnXnSKGzgbO",
        "colab": {
          "base_uri": "https://localhost:8080/"
        },
        "outputId": "fd8d262f-2de9-4223-d500-3356eaf36c1b"
      },
      "source": [
        "x_input = np.array([[1, -2, 0, -1], [0, 1.5, -0.5, -1], [-1, 1, 0.5, -1]])\n",
        "w = np.array([1,-1, 0, 0.5])\n",
        "c = 0.1\n",
        "d = [-1, -1, 1]\n",
        "print(f'w : {w}')\n",
        "epochs=5\n",
        "for n in range(epochs):\n",
        "  i=0\n",
        "  print('EPOCH-{}'.format(n+1))\n",
        "  for x in x_input:\n",
        "    \n",
        "    net = w.T @ x\n",
        "\n",
        "    w = w + c *(d[i]-net) * x\n",
        "    i+=1\n",
        "    print(f'WEIGHTS : {w}')  \n",
        "  print('-------------------------')\n",
        "  "
      ],
      "execution_count": 6,
      "outputs": [
        {
          "output_type": "stream",
          "text": [
            "w : [ 1.  -1.   0.   0.5]\n",
            "EPOCH-1\n",
            "WEIGHTS : [ 0.65 -0.3   0.    0.85]\n",
            "WEIGHTS : [ 0.65  -0.255 -0.015  0.82 ]\n",
            "WEIGHTS : [0.37675  0.01825  0.121625 0.54675 ]\n",
            "-------------------------\n",
            "EPOCH-2\n",
            "WEIGHTS : [0.2974   0.17695  0.121625 0.6261  ]\n",
            "WEIGHTS : [0.2974     0.09017313 0.15055062 0.68395125]\n",
            "WEIGHTS : [0.11580972 0.27176341 0.24134577 0.50236097]\n",
            "-------------------------\n",
            "EPOCH-3\n",
            "WEIGHTS : [0.10881752 0.28574779 0.24134577 0.50935316]\n",
            "WEIGHTS : [0.10881752 0.16595845 0.28127555 0.58921273]\n",
            "WEIGHTS : [-0.03032588  0.30510185  0.35084725  0.45006932]\n",
            "-------------------------\n",
            "EPOCH-4\n",
            "WEIGHTS : [-0.02126599  0.28698207  0.35084725  0.44100943]\n",
            "WEIGHTS : [-0.02126599  0.16487606  0.39154925  0.52241344]\n",
            "WEIGHTS : [-0.13531566  0.27892574  0.44857409  0.40836376]\n",
            "-------------------------\n",
            "EPOCH-5\n",
            "WEIGHTS : [-0.12516257  0.25861956  0.44857409  0.39821067]\n",
            "WEIGHTS : [-0.12516257  0.14380482  0.48684567  0.47475383]\n",
            "WEIGHTS : [-0.22139893  0.24004118  0.53496385  0.37851747]\n",
            "-------------------------\n"
          ],
          "name": "stdout"
        }
      ]
    },
    {
      "cell_type": "code",
      "metadata": {
        "id": "8-7BCwMQh92g"
      },
      "source": [
        ""
      ],
      "execution_count": null,
      "outputs": []
    }
  ]
}