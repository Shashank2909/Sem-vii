{
  "nbformat": 4,
  "nbformat_minor": 0,
  "metadata": {
    "colab": {
      "name": "171104001_shashank_exp7.ipynb",
      "provenance": [],
      "include_colab_link": true
    },
    "kernelspec": {
      "name": "python3",
      "display_name": "Python 3"
    }
  },
  "cells": [
    {
      "cell_type": "markdown",
      "metadata": {
        "id": "view-in-github",
        "colab_type": "text"
      },
      "source": [
        "<a href=\"https://colab.research.google.com/github/Shashank2909/Sem-vii/blob/main/ISC/171104001_shashank_exp7.ipynb\" target=\"_parent\"><img src=\"https://colab.research.google.com/assets/colab-badge.svg\" alt=\"Open In Colab\"/></a>"
      ]
    },
    {
      "cell_type": "code",
      "metadata": {
        "id": "h-GQlK9HzXoT"
      },
      "source": [
        "import numpy as np"
      ],
      "execution_count": 2,
      "outputs": []
    },
    {
      "cell_type": "code",
      "metadata": {
        "id": "JXnXnSKGzgbO",
        "colab": {
          "base_uri": "https://localhost:8080/"
        },
        "outputId": "88b6e7db-6e53-4a0d-95da-3966c33fce3e"
      },
      "source": [
        "x_input = np.array([[1, -2, 0, -1], [0, 1.5, -0.5, -1], [-1, 1, 0.5, -1]])\n",
        "w = np.array([1,-1, 0, 0.5])\n",
        "c = 0.1\n",
        "d = [-1, -1, 1]\n",
        "print(f'w : {w}')\n",
        "epochs=5\n",
        "for n in range(epochs):\n",
        "  i=0\n",
        "  print('EPOCH-{}'.format(n+1))\n",
        "  for x in x_input:\n",
        "    \n",
        "    net = w.T @ x\n",
        "    o = (1 - np.exp(-net)) / (1 + np.exp(-net)) #bipolar sigmoidal activation function\n",
        "    w = w + c*(d[i]-o)*0.5*(1-o*o)*x\n",
        "    i+=1\n",
        "    print(f'WEIGHTS : {w}')  \n",
        "  print('------------------------------------')\n",
        "  "
      ],
      "execution_count": 3,
      "outputs": [
        {
          "output_type": "stream",
          "text": [
            "w : [ 1.  -1.   0.   0.5]\n",
            "EPOCH-1\n",
            "WEIGHTS : [ 0.97408569 -0.94817138  0.          0.52591431]\n",
            "WEIGHTS : [ 0.97408569 -0.95634441  0.00272434  0.531363  ]\n",
            "WEIGHTS : [ 0.94737155 -0.92963027  0.01608141  0.50464886]\n",
            "------------------------------------\n",
            "EPOCH-2\n",
            "WEIGHTS : [ 0.9173058  -0.86949877  0.01608141  0.53471461]\n",
            "WEIGHTS : [ 0.9173058  -0.87911636  0.01928728  0.54112633]\n",
            "WEIGHTS : [ 0.88780387 -0.84961443  0.03403824  0.5116244 ]\n",
            "------------------------------------\n",
            "EPOCH-3\n",
            "WEIGHTS : [ 0.85259281 -0.77919231  0.03403824  0.54683547]\n",
            "WEIGHTS : [ 0.85259281 -0.79070218  0.03787486  0.55450871]\n",
            "WEIGHTS : [ 0.81977526 -0.75788463  0.05428364  0.52169116]\n",
            "------------------------------------\n",
            "EPOCH-4\n",
            "WEIGHTS : [ 0.77832315 -0.67498041  0.05428364  0.56314327]\n",
            "WEIGHTS : [ 0.77832315 -0.68900908  0.05895986  0.57249572]\n",
            "WEIGHTS : [ 0.74157763 -0.65226356  0.07733262  0.5357502 ]\n",
            "------------------------------------\n",
            "EPOCH-5\n",
            "WEIGHTS : [ 0.69303157 -0.55517144  0.07733262  0.58429626]\n",
            "WEIGHTS : [ 0.69303157 -0.57257325  0.08313322  0.59589746]\n",
            "WEIGHTS : [ 0.65172558 -0.53126726  0.10378622  0.55459147]\n",
            "------------------------------------\n"
          ],
          "name": "stdout"
        }
      ]
    },
    {
      "cell_type": "code",
      "metadata": {
        "id": "8-7BCwMQh92g"
      },
      "source": [
        ""
      ],
      "execution_count": null,
      "outputs": []
    }
  ]
}