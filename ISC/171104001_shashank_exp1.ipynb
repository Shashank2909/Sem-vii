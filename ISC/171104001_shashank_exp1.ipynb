{
  "nbformat": 4,
  "nbformat_minor": 0,
  "metadata": {
    "colab": {
      "name": "171104001_shashank_exp1.ipynb",
      "provenance": [],
      "authorship_tag": "ABX9TyOct8Ku0Mr9bbh0SKROA1yc",
      "include_colab_link": true
    },
    "kernelspec": {
      "name": "python3",
      "display_name": "Python 3"
    }
  },
  "cells": [
    {
      "cell_type": "markdown",
      "metadata": {
        "id": "view-in-github",
        "colab_type": "text"
      },
      "source": [
        "<a href=\"https://colab.research.google.com/github/Shashank2909/Sem-vii/blob/main/ISC/171104001_shashank_exp1.ipynb\" target=\"_parent\"><img src=\"https://colab.research.google.com/assets/colab-badge.svg\" alt=\"Open In Colab\"/></a>"
      ]
    },
    {
      "cell_type": "code",
      "metadata": {
        "id": "zPBMhGcIp_Fz",
        "colab": {
          "base_uri": "https://localhost:8080/",
          "height": 52
        },
        "outputId": "9f974ffb-1197-4ef9-db8c-54e26b6c0462"
      },
      "source": [
        "#Exercise 1\n",
        "data = 5649\n",
        "x=0\n",
        "while data>0:\n",
        "    a=int(data % 10.0)\n",
        "    x=x*10+a\n",
        "    data=int(data / 10.0)\n",
        "print(x)\n"
      ],
      "execution_count": null,
      "outputs": [
        {
          "output_type": "stream",
          "text": [
            "Exercise-1\n",
            "9465\n"
          ],
          "name": "stdout"
        }
      ]
    },
    {
      "cell_type": "code",
      "metadata": {
        "id": "Gja_qDR0p-xv",
        "colab": {
          "base_uri": "https://localhost:8080/",
          "height": 69
        },
        "outputId": "c992f2ba-9c55-43ce-8e96-426addbb5d09"
      },
      "source": [
        "# Strings in python\n",
        "\n",
        "var1 = 'testing'\n",
        "var2 = \"I am running\"\n",
        "\n",
        "var3 = \"Hello! \"\n",
        "\n",
        "print (\"var1[0:3]: \", var1[0:3])\n",
        "print (\"var2[1:6]: >\", var2[1:6],\"<\")\n",
        "print(var3*4)\n"
      ],
      "execution_count": null,
      "outputs": [
        {
          "output_type": "stream",
          "text": [
            "var1[0:3]:  tes\n",
            "var2[1:6]: >  am r <\n",
            "Hello! Hello! Hello! Hello! \n"
          ],
          "name": "stdout"
        }
      ]
    },
    {
      "cell_type": "code",
      "metadata": {
        "id": "6vk4AEMjp-u_",
        "colab": {
          "base_uri": "https://localhost:8080/",
          "height": 34
        },
        "outputId": "d6ebb510-0e89-435a-ea37-b67ddc5cf03a"
      },
      "source": [
        "# EXERCISE 2\n",
        "print(\"Name: {} Roll no: {} GATE Rank: {} Percentile: {} \" .format('Shashank', 171104001, 1550, 65))"
      ],
      "execution_count": null,
      "outputs": [
        {
          "output_type": "stream",
          "text": [
            "Name: Shashank Roll no: 171104001 GATE Rank: 1550 Percentile: 65 \n"
          ],
          "name": "stdout"
        }
      ]
    },
    {
      "cell_type": "code",
      "metadata": {
        "id": "df3P0H2Zp-q-",
        "colab": {
          "base_uri": "https://localhost:8080/",
          "height": 34
        },
        "outputId": "4c947208-4a78-4f7d-e2a4-db2755924365"
      },
      "source": [
        "# EXERCISE 3\n",
        "players = ['abc', 'de', 'efg', 'ijk', 'lmn', 'op', 'qq', 'rr']\n",
        "del players[1:4]\n",
        "del players[2:3]\n",
        "print(players)"
      ],
      "execution_count": null,
      "outputs": [
        {
          "output_type": "stream",
          "text": [
            "['abc', 'lmn', 'qq', 'rr']\n"
          ],
          "name": "stdout"
        }
      ]
    },
    {
      "cell_type": "code",
      "metadata": {
        "id": "LwcCx67xtOP8",
        "colab": {
          "base_uri": "https://localhost:8080/",
          "height": 139
        },
        "outputId": "0885b6b9-3bca-4765-a630-70f8892ab305"
      },
      "source": [
        "#Exercise 4\n",
        "\n",
        "i = '* * * *'\n",
        "j = '*     '\n",
        "k = '      *'\n",
        "for x in range(8):\n",
        "    if x==0 or x==7 or x==3:\n",
        "      print(i)\n",
        "    elif x==1 or x==2:\n",
        "      print(j)\n",
        "    elif x==4 or x==5:  \n",
        "      print(k)\n"
      ],
      "execution_count": null,
      "outputs": [
        {
          "output_type": "stream",
          "text": [
            "* * * *\n",
            "*     \n",
            "*     \n",
            "* * * *\n",
            "      *\n",
            "      *\n",
            "* * * *\n"
          ],
          "name": "stdout"
        }
      ]
    },
    {
      "cell_type": "code",
      "metadata": {
        "id": "EtC8-8wmusam"
      },
      "source": [
        "# EXERCISE 5\n",
        "import numpy as np\n",
        "A = np.random.random((5,4))\n",
        "B = np.random.random((3,4))\n",
        "\n",
        "C = np.concatenate((A,B))\n",
        "\n",
        "D = np.random.randint(1,5,(17,4))\n",
        "\n",
        "E = np.concatenate((C,D))\n",
        "E = E.reshape(10,10)\n",
        "E.shape\n",
        "\n",
        "print('Array A: \\n ' , A)\n",
        "print('Transpose of A: \\n ', A.T)\n",
        "print('Array B: \\n ' , B)\n",
        "print('Transpose of B: \\n ', B.T)\n",
        "print('Array C: \\n ' , C)\n",
        "print('Transpose of C: \\n ', C.T)\n",
        "print('Array D: \\n ' , D)\n",
        "print('Transpose of D: \\n ', D.T)\n",
        "print('Array E: \\n ' , E)\n",
        "print('Transpose of E: \\n ', E.T)\n"
      ],
      "execution_count": null,
      "outputs": []
    },
    {
      "cell_type": "code",
      "metadata": {
        "id": "3u6OWT0_vOVp"
      },
      "source": [
        "# EXERCISE 6\n",
        "name = {'Rohit':000, 'Dhoni':000,'Kohli':000}\n",
        "\n",
        "for keys in name:\n",
        "    name[keys] = input('Enter Hash code: ')\n",
        "print(name)\n",
        "second = {name['Rohit']:000, name['Dhoni']:000, name['Kohli']:000}\n",
        "for keys in second:\n",
        "    second[keys] = input('Enter Mobile no.: ')\n",
        "print(second)\n",
        "n = int(input(\"Enter the no. of entries: \"))\n",
        "for i in range(0,n):\n",
        "    a = input(\"Enter a new name: \")\n",
        "    name[a] = int(input(\"Enter hash code: \"))\n",
        "print(name)\n",
        "m = int(input(\"Enter no. of entries to be deleted: \"))\n",
        "for i in range(0,m):\n",
        "    a = input(\"Enter name to be deleted: \")\n",
        "    del(name[a])\n",
        "print(name)"
      ],
      "execution_count": null,
      "outputs": []
    }
  ]
}