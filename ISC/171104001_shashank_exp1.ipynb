{
  "nbformat": 4,
  "nbformat_minor": 0,
  "metadata": {
    "colab": {
      "name": "171104001_shashank_exp1.ipynb",
      "provenance": [],
      "authorship_tag": "ABX9TyPLy8e3DOwvpdXZlGSVPQjp",
      "include_colab_link": true
    },
    "kernelspec": {
      "name": "python3",
      "display_name": "Python 3"
    }
  },
  "cells": [
    {
      "cell_type": "markdown",
      "metadata": {
        "id": "view-in-github",
        "colab_type": "text"
      },
      "source": [
        "<a href=\"https://colab.research.google.com/github/Shashank2909/Sem-vii/blob/main/ISC/171104001_shashank_exp1.ipynb\" target=\"_parent\"><img src=\"https://colab.research.google.com/assets/colab-badge.svg\" alt=\"Open In Colab\"/></a>"
      ]
    },
    {
      "cell_type": "code",
      "metadata": {
        "id": "zPBMhGcIp_Fz",
        "colab": {
          "base_uri": "https://localhost:8080/",
          "height": 52
        },
        "outputId": "9f974ffb-1197-4ef9-db8c-54e26b6c0462"
      },
      "source": [
        "#Exercise 1\n",
        "data = 5649\n",
        "x=0\n",
        "while data>0:\n",
        "    a=int(data % 10.0)\n",
        "    x=x*10+a\n",
        "    data=int(data / 10.0)\n",
        "print(x)\n"
      ],
      "execution_count": null,
      "outputs": [
        {
          "output_type": "stream",
          "text": [
            "Exercise-1\n",
            "9465\n"
          ],
          "name": "stdout"
        }
      ]
    },
    {
      "cell_type": "code",
      "metadata": {
        "id": "Gja_qDR0p-xv",
        "colab": {
          "base_uri": "https://localhost:8080/",
          "height": 69
        },
        "outputId": "c992f2ba-9c55-43ce-8e96-426addbb5d09"
      },
      "source": [
        "# Strings in python\n",
        "\n",
        "var1 = 'testing'\n",
        "var2 = \"I am running\"\n",
        "\n",
        "var3 = \"Hello! \"\n",
        "\n",
        "print (\"var1[0:3]: \", var1[0:3])\n",
        "print (\"var2[1:6]: >\", var2[1:6],\"<\")\n",
        "print(var3*4)\n"
      ],
      "execution_count": null,
      "outputs": [
        {
          "output_type": "stream",
          "text": [
            "var1[0:3]:  tes\n",
            "var2[1:6]: >  am r <\n",
            "Hello! Hello! Hello! Hello! \n"
          ],
          "name": "stdout"
        }
      ]
    },
    {
      "cell_type": "code",
      "metadata": {
        "id": "6vk4AEMjp-u_",
        "colab": {
          "base_uri": "https://localhost:8080/",
          "height": 34
        },
        "outputId": "d6ebb510-0e89-435a-ea37-b67ddc5cf03a"
      },
      "source": [
        "# EXERCISE 2\n",
        "print(\"Name: {} Roll no: {} GATE Rank: {} Percentile: {} \" .format('Shashank', 171104001, 1550, 65))"
      ],
      "execution_count": null,
      "outputs": [
        {
          "output_type": "stream",
          "text": [
            "Name: Shashank Roll no: 171104001 GATE Rank: 1550 Percentile: 65 \n"
          ],
          "name": "stdout"
        }
      ]
    },
    {
      "cell_type": "code",
      "metadata": {
        "id": "df3P0H2Zp-q-",
        "colab": {
          "base_uri": "https://localhost:8080/",
          "height": 34
        },
        "outputId": "4c947208-4a78-4f7d-e2a4-db2755924365"
      },
      "source": [
        "# EXERCISE 3\n",
        "players = ['abc', 'de', 'efg', 'ijk', 'lmn', 'op', 'qq', 'rr']\n",
        "del players[1:4]\n",
        "del players[2:3]\n",
        "print(players)"
      ],
      "execution_count": null,
      "outputs": [
        {
          "output_type": "stream",
          "text": [
            "['abc', 'lmn', 'qq', 'rr']\n"
          ],
          "name": "stdout"
        }
      ]
    },
    {
      "cell_type": "code",
      "metadata": {
        "id": "LwcCx67xtOP8",
        "colab": {
          "base_uri": "https://localhost:8080/",
          "height": 139
        },
        "outputId": "0885b6b9-3bca-4765-a630-70f8892ab305"
      },
      "source": [
        "#Exercise 4\n",
        "\n",
        "i = '* * * *'\n",
        "j = '*     '\n",
        "k = '      *'\n",
        "for x in range(8):\n",
        "    if x==0 or x==7 or x==3:\n",
        "      print(i)\n",
        "    elif x==1 or x==2:\n",
        "      print(j)\n",
        "    elif x==4 or x==5:  \n",
        "      print(k)\n"
      ],
      "execution_count": null,
      "outputs": [
        {
          "output_type": "stream",
          "text": [
            "* * * *\n",
            "*     \n",
            "*     \n",
            "* * * *\n",
            "      *\n",
            "      *\n",
            "* * * *\n"
          ],
          "name": "stdout"
        }
      ]
    },
    {
      "cell_type": "code",
      "metadata": {
        "id": "EtC8-8wmusam",
        "outputId": "9a6fe2e0-e53b-4209-db7a-a1bf4c8fc64d",
        "colab": {
          "base_uri": "https://localhost:8080/"
        }
      },
      "source": [
        "# EXERCISE 5\n",
        "import numpy as np\n",
        "A1 = np.random.random((5,4))\n",
        "A2 = np.random.random((3,4))\n",
        "\n",
        "A3 = np.concatenate((A,B))\n",
        "\n",
        "A4 = np.concatenate((A3, np.random.randn(2, 4)))\n",
        "A4 = np.concatenate((A4, np.random.randn(10, 6)), axis=1)\n",
        "\n",
        "print('Array A1: \\n ' , A1)\n",
        "print('Transpose of A1: \\n ', A1.T)\n",
        "print('Array A2: \\n ' , A2)\n",
        "print('Transpose of A2: \\n ', A2.T)\n",
        "print('Array A3 (size:-8x4): \\n ' , A3)\n",
        "print('Transpose of A3: \\n ', A3.T)\n",
        "print('Array A4 (size:-10X10): \\n ' , A4)\n",
        "print('Transpose of A4: \\n ', A4.T)"
      ],
      "execution_count": 11,
      "outputs": [
        {
          "output_type": "stream",
          "text": [
            "Array A4 (size:-10X10): \n",
            "  [[ 0.98235452  0.55604637  0.03502602  0.27835451 -1.49602439 -0.04029827\n",
            "   1.14672502  1.01724178 -0.05317343 -0.50874268]\n",
            " [ 0.75048804  0.70223364  0.98965682  0.06020249  1.37843888 -0.90475894\n",
            "   0.10476672 -0.09755314 -0.34131852  0.81176041]\n",
            " [ 0.06854693  0.26606067  0.57619582  0.10763794  0.70287289 -0.03760377\n",
            "   1.00843038  0.55289998 -0.26491745 -0.69889757]\n",
            " [ 0.83266153  0.52997492  0.16565283  0.44238111 -0.7518817  -1.04244301\n",
            "  -0.06864362 -0.46227799 -0.84392846  0.46256269]\n",
            " [ 0.2504018   0.62658411  0.4833813   0.83135798  1.10962344  1.3043867\n",
            "  -0.10841081 -0.36326203  1.08339893 -1.97148214]\n",
            " [ 0.73921882  0.57858999  0.65742937  0.76282474  0.01485548 -0.94638578\n",
            "  -1.38999337  0.37186867 -1.79997978  2.58999716]\n",
            " [ 0.66617241  0.14869371  0.67261804  0.61919565 -0.15599209 -1.80798092\n",
            "   0.48222879 -1.18723415 -0.04706977 -0.99283293]\n",
            " [ 0.50038036  0.67807015  0.32317053  0.87041454  0.14383512  1.84750862\n",
            "   1.45079853  1.69805182  0.17175816  0.17491151]\n",
            " [-0.17617564  1.02472095  0.67943947  1.16586918 -0.54195514 -0.16841494\n",
            "  -0.09649929 -0.57395567 -0.41559652 -1.78239743]\n",
            " [-0.00562475  1.04916893  1.76839533 -0.47094224 -0.28081542 -0.6170111\n",
            "   1.16261263  0.43832581 -0.21111757  0.7630147 ]]\n",
            "Transpose of A4: \n",
            "  [[ 0.98235452  0.75048804  0.06854693  0.83266153  0.2504018   0.73921882\n",
            "   0.66617241  0.50038036 -0.17617564 -0.00562475]\n",
            " [ 0.55604637  0.70223364  0.26606067  0.52997492  0.62658411  0.57858999\n",
            "   0.14869371  0.67807015  1.02472095  1.04916893]\n",
            " [ 0.03502602  0.98965682  0.57619582  0.16565283  0.4833813   0.65742937\n",
            "   0.67261804  0.32317053  0.67943947  1.76839533]\n",
            " [ 0.27835451  0.06020249  0.10763794  0.44238111  0.83135798  0.76282474\n",
            "   0.61919565  0.87041454  1.16586918 -0.47094224]\n",
            " [-1.49602439  1.37843888  0.70287289 -0.7518817   1.10962344  0.01485548\n",
            "  -0.15599209  0.14383512 -0.54195514 -0.28081542]\n",
            " [-0.04029827 -0.90475894 -0.03760377 -1.04244301  1.3043867  -0.94638578\n",
            "  -1.80798092  1.84750862 -0.16841494 -0.6170111 ]\n",
            " [ 1.14672502  0.10476672  1.00843038 -0.06864362 -0.10841081 -1.38999337\n",
            "   0.48222879  1.45079853 -0.09649929  1.16261263]\n",
            " [ 1.01724178 -0.09755314  0.55289998 -0.46227799 -0.36326203  0.37186867\n",
            "  -1.18723415  1.69805182 -0.57395567  0.43832581]\n",
            " [-0.05317343 -0.34131852 -0.26491745 -0.84392846  1.08339893 -1.79997978\n",
            "  -0.04706977  0.17175816 -0.41559652 -0.21111757]\n",
            " [-0.50874268  0.81176041 -0.69889757  0.46256269 -1.97148214  2.58999716\n",
            "  -0.99283293  0.17491151 -1.78239743  0.7630147 ]]\n"
          ],
          "name": "stdout"
        }
      ]
    },
    {
      "cell_type": "code",
      "metadata": {
        "id": "3u6OWT0_vOVp",
        "outputId": "53998ade-0bf1-4795-e4c0-bb8685324b7d",
        "colab": {
          "base_uri": "https://localhost:8080/"
        }
      },
      "source": [
        "# EXERCISE 6\n",
        "name = {'Rohit':000, 'Dhoni':000}#,'Kohli':000,'Ronaldo':000,'Messi':000}\n",
        "\n",
        "for keys in name:\n",
        "    name[keys] = input('Enter Hash code: ')\n",
        "print(name)\n",
        "second = {name['Rohit']:000, name['Dhoni']:000}#, name['Kohli']:000,'Ronaldo':000,'Messi':000}\n",
        "for keys in second:\n",
        "    second[keys] = input('Enter Mobile no.: ')\n",
        "print(second)\n",
        "n = int(input(\"Enter the no. of entries: \"))\n",
        "for i in range(0,n):\n",
        "    a = input(\"Enter a new name: \")\n",
        "    name[a] = int(input(\"Enter hash value: \"))\n",
        "    second[name[a]] = int(input('Enter mob. no:'))\n",
        "print(name)\n",
        "m = int(input(\"Enter no. of entries to be deleted: \"))\n",
        "for i in range(0,m):\n",
        "    a = input(\"Enter name to be deleted: \")\n",
        "    del(name[a])\n",
        "print(name)"
      ],
      "execution_count": 20,
      "outputs": [
        {
          "output_type": "stream",
          "text": [
            "Enter Hash code: 111\n",
            "Enter Hash code: 222\n",
            "{'Rohit': '111', 'Dhoni': '222'}\n",
            "Enter Mobile no.: 83\n",
            "Enter Mobile no.: 93\n",
            "{'111': '83', '222': '93'}\n",
            "Enter the no. of entries: 1\n",
            "Enter a new name: Shashank\n",
            "Enter hash value: 333\n",
            "Enter mob. no:01\n",
            "{'Rohit': '111', 'Dhoni': '222', 'Shashank': 333}\n",
            "Enter no. of entries to be deleted: 1\n",
            "Enter name to be deleted: Shashank\n",
            "{'Rohit': '111', 'Dhoni': '222'}\n"
          ],
          "name": "stdout"
        }
      ]
    }
  ]
}