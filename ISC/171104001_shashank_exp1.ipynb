{
  "nbformat": 4,
  "nbformat_minor": 0,
  "metadata": {
    "colab": {
      "name": "171104001_shashank_exp1.ipynb",
      "provenance": [],
      "authorship_tag": "ABX9TyPvoWFgEzwQA5rstzShE1C2",
      "include_colab_link": true
    },
    "kernelspec": {
      "name": "python3",
      "display_name": "Python 3"
    }
  },
  "cells": [
    {
      "cell_type": "markdown",
      "metadata": {
        "id": "view-in-github",
        "colab_type": "text"
      },
      "source": [
        "<a href=\"https://colab.research.google.com/github/Shashank2909/Sem-vii/blob/main/ISC/171104001_shashank_exp1.ipynb\" target=\"_parent\"><img src=\"https://colab.research.google.com/assets/colab-badge.svg\" alt=\"Open In Colab\"/></a>"
      ]
    },
    {
      "cell_type": "code",
      "metadata": {
        "id": "zPBMhGcIp_Fz",
        "colab": {
          "base_uri": "https://localhost:8080/",
          "height": 52
        },
        "outputId": "9f974ffb-1197-4ef9-db8c-54e26b6c0462"
      },
      "source": [
        "#Exercise 1\n",
        "data = 5649\n",
        "x=0\n",
        "while data>0:\n",
        "    a=int(data % 10.0)\n",
        "    x=x*10+a\n",
        "    data=int(data / 10.0)\n",
        "print(x)\n"
      ],
      "execution_count": null,
      "outputs": [
        {
          "output_type": "stream",
          "text": [
            "Exercise-1\n",
            "9465\n"
          ],
          "name": "stdout"
        }
      ]
    },
    {
      "cell_type": "code",
      "metadata": {
        "id": "Gja_qDR0p-xv",
        "colab": {
          "base_uri": "https://localhost:8080/",
          "height": 69
        },
        "outputId": "c992f2ba-9c55-43ce-8e96-426addbb5d09"
      },
      "source": [
        "# Strings in python\n",
        "\n",
        "var1 = 'testing'\n",
        "var2 = \"I am running\"\n",
        "\n",
        "var3 = \"Hello! \"\n",
        "\n",
        "print (\"var1[0:3]: \", var1[0:3])\n",
        "print (\"var2[1:6]: >\", var2[1:6],\"<\")\n",
        "print(var3*4)\n"
      ],
      "execution_count": null,
      "outputs": [
        {
          "output_type": "stream",
          "text": [
            "var1[0:3]:  tes\n",
            "var2[1:6]: >  am r <\n",
            "Hello! Hello! Hello! Hello! \n"
          ],
          "name": "stdout"
        }
      ]
    },
    {
      "cell_type": "code",
      "metadata": {
        "id": "6vk4AEMjp-u_",
        "colab": {
          "base_uri": "https://localhost:8080/",
          "height": 34
        },
        "outputId": "d6ebb510-0e89-435a-ea37-b67ddc5cf03a"
      },
      "source": [
        "# EXERCISE 2\n",
        "print(\"Name: {} Roll no: {} GATE Rank: {} Percentile: {} \" .format('Shashank', 171104001, 1550, 65))"
      ],
      "execution_count": null,
      "outputs": [
        {
          "output_type": "stream",
          "text": [
            "Name: Shashank Roll no: 171104001 GATE Rank: 1550 Percentile: 65 \n"
          ],
          "name": "stdout"
        }
      ]
    },
    {
      "cell_type": "code",
      "metadata": {
        "id": "df3P0H2Zp-q-",
        "colab": {
          "base_uri": "https://localhost:8080/",
          "height": 34
        },
        "outputId": "4c947208-4a78-4f7d-e2a4-db2755924365"
      },
      "source": [
        "# EXERCISE 3\n",
        "players = ['abc', 'de', 'efg', 'ijk', 'lmn', 'op', 'qq', 'rr']\n",
        "del players[1:4]\n",
        "del players[2:3]\n",
        "print(players)"
      ],
      "execution_count": null,
      "outputs": [
        {
          "output_type": "stream",
          "text": [
            "['abc', 'lmn', 'qq', 'rr']\n"
          ],
          "name": "stdout"
        }
      ]
    },
    {
      "cell_type": "code",
      "metadata": {
        "id": "LwcCx67xtOP8",
        "colab": {
          "base_uri": "https://localhost:8080/",
          "height": 139
        },
        "outputId": "0885b6b9-3bca-4765-a630-70f8892ab305"
      },
      "source": [
        "#Exercise 4\n",
        "\n",
        "i = '* * * *'\n",
        "j = '*     '\n",
        "k = '      *'\n",
        "for x in range(8):\n",
        "    if x==0 or x==7 or x==3:\n",
        "      print(i)\n",
        "    elif x==1 or x==2:\n",
        "      print(j)\n",
        "    elif x==4 or x==5:  \n",
        "      print(k)\n"
      ],
      "execution_count": null,
      "outputs": [
        {
          "output_type": "stream",
          "text": [
            "* * * *\n",
            "*     \n",
            "*     \n",
            "* * * *\n",
            "      *\n",
            "      *\n",
            "* * * *\n"
          ],
          "name": "stdout"
        }
      ]
    },
    {
      "cell_type": "code",
      "metadata": {
        "id": "EtC8-8wmusam",
        "colab": {
          "base_uri": "https://localhost:8080/"
        },
        "outputId": "300c23f0-e1ad-47c6-cf36-4f8c9a9c42d7"
      },
      "source": [
        "# EXERCISE 5\n",
        "import numpy as np\n",
        "A1 = np.random.random((5,4))\n",
        "A2 = np.random.random((3,4))\n",
        "\n",
        "A3 = np.concatenate((A1,A2))\n",
        "\n",
        "A4 = np.concatenate((A3, np.random.randn(2, 4)))\n",
        "A4 = np.concatenate((A4, np.random.randn(10, 6)), axis=1)\n",
        "\n",
        "print('Array A1: \\n ' , A1)\n",
        "print('Transpose of A1: \\n ', A1.T)\n",
        "print('Array A2: \\n ' , A2)\n",
        "print('Transpose of A2: \\n ', A2.T)\n",
        "print('Array A3 (size:-8x4): \\n ' , A3)\n",
        "print('Transpose of A3: \\n ', A3.T)\n",
        "print('Array A4 (size:-10X10): \\n ' , A4)\n",
        "print('Transpose of A4: \\n ', A4.T)"
      ],
      "execution_count": 2,
      "outputs": [
        {
          "output_type": "stream",
          "text": [
            "Array A1: \n",
            "  [[0.79625208 0.83805264 0.3857732  0.96348538]\n",
            " [0.68699411 0.5321307  0.58321175 0.18546672]\n",
            " [0.11101999 0.57959466 0.34589213 0.61748629]\n",
            " [0.88678784 0.46181221 0.34905561 0.5989254 ]\n",
            " [0.42050668 0.66962138 0.65128628 0.59767866]]\n",
            "Transpose of A1: \n",
            "  [[0.79625208 0.68699411 0.11101999 0.88678784 0.42050668]\n",
            " [0.83805264 0.5321307  0.57959466 0.46181221 0.66962138]\n",
            " [0.3857732  0.58321175 0.34589213 0.34905561 0.65128628]\n",
            " [0.96348538 0.18546672 0.61748629 0.5989254  0.59767866]]\n",
            "Array A2: \n",
            "  [[0.54508858 0.32829038 0.11786225 0.54678504]\n",
            " [0.22546369 0.19126282 0.07784764 0.13148261]\n",
            " [0.28737907 0.38748443 0.9497515  0.04300303]]\n",
            "Transpose of A2: \n",
            "  [[0.54508858 0.22546369 0.28737907]\n",
            " [0.32829038 0.19126282 0.38748443]\n",
            " [0.11786225 0.07784764 0.9497515 ]\n",
            " [0.54678504 0.13148261 0.04300303]]\n",
            "Array A3 (size:-8x4): \n",
            "  [[0.79625208 0.83805264 0.3857732  0.96348538]\n",
            " [0.68699411 0.5321307  0.58321175 0.18546672]\n",
            " [0.11101999 0.57959466 0.34589213 0.61748629]\n",
            " [0.88678784 0.46181221 0.34905561 0.5989254 ]\n",
            " [0.42050668 0.66962138 0.65128628 0.59767866]\n",
            " [0.54508858 0.32829038 0.11786225 0.54678504]\n",
            " [0.22546369 0.19126282 0.07784764 0.13148261]\n",
            " [0.28737907 0.38748443 0.9497515  0.04300303]]\n",
            "Transpose of A3: \n",
            "  [[0.79625208 0.68699411 0.11101999 0.88678784 0.42050668 0.54508858\n",
            "  0.22546369 0.28737907]\n",
            " [0.83805264 0.5321307  0.57959466 0.46181221 0.66962138 0.32829038\n",
            "  0.19126282 0.38748443]\n",
            " [0.3857732  0.58321175 0.34589213 0.34905561 0.65128628 0.11786225\n",
            "  0.07784764 0.9497515 ]\n",
            " [0.96348538 0.18546672 0.61748629 0.5989254  0.59767866 0.54678504\n",
            "  0.13148261 0.04300303]]\n",
            "Array A4 (size:-10X10): \n",
            "  [[ 0.79625208  0.83805264  0.3857732   0.96348538 -0.07730696 -0.88909655\n",
            "  -2.13055547  1.02339131 -0.17885669  0.46356595]\n",
            " [ 0.68699411  0.5321307   0.58321175  0.18546672  0.55562109 -0.61404854\n",
            "  -0.30217087 -1.42861093 -0.04308853 -0.77539242]\n",
            " [ 0.11101999  0.57959466  0.34589213  0.61748629 -0.98330156 -0.37666058\n",
            "   2.47299016  0.39648908  0.54331725  0.50236316]\n",
            " [ 0.88678784  0.46181221  0.34905561  0.5989254  -1.03683169 -0.97964219\n",
            "   0.13579652  0.37173368  0.7995919  -1.48646304]\n",
            " [ 0.42050668  0.66962138  0.65128628  0.59767866 -0.68666442 -1.03523379\n",
            "  -1.55297655 -0.49621697  0.94226091 -0.89508572]\n",
            " [ 0.54508858  0.32829038  0.11786225  0.54678504 -1.16472266 -1.66414981\n",
            "  -0.13703031  0.19616448 -1.64119174 -1.27919116]\n",
            " [ 0.22546369  0.19126282  0.07784764  0.13148261 -1.1559548  -0.81756994\n",
            "  -0.20493347 -0.32126188 -1.32716654 -1.34251622]\n",
            " [ 0.28737907  0.38748443  0.9497515   0.04300303  1.17822141  1.76663362\n",
            "  -0.84515281 -0.52671017  0.84996135 -1.72711826]\n",
            " [ 1.14199044  0.70432679  0.43192507  0.74369326  0.90742606 -0.34801159\n",
            "  -0.07322663  0.17480592  0.9346848  -1.1721827 ]\n",
            " [-1.38326531 -0.36702672  1.47643122  1.05764987 -0.61313903 -0.72859268\n",
            "   0.57684989  0.87866432  0.26832665 -1.06314733]]\n",
            "Transpose of A4: \n",
            "  [[ 0.79625208  0.68699411  0.11101999  0.88678784  0.42050668  0.54508858\n",
            "   0.22546369  0.28737907  1.14199044 -1.38326531]\n",
            " [ 0.83805264  0.5321307   0.57959466  0.46181221  0.66962138  0.32829038\n",
            "   0.19126282  0.38748443  0.70432679 -0.36702672]\n",
            " [ 0.3857732   0.58321175  0.34589213  0.34905561  0.65128628  0.11786225\n",
            "   0.07784764  0.9497515   0.43192507  1.47643122]\n",
            " [ 0.96348538  0.18546672  0.61748629  0.5989254   0.59767866  0.54678504\n",
            "   0.13148261  0.04300303  0.74369326  1.05764987]\n",
            " [-0.07730696  0.55562109 -0.98330156 -1.03683169 -0.68666442 -1.16472266\n",
            "  -1.1559548   1.17822141  0.90742606 -0.61313903]\n",
            " [-0.88909655 -0.61404854 -0.37666058 -0.97964219 -1.03523379 -1.66414981\n",
            "  -0.81756994  1.76663362 -0.34801159 -0.72859268]\n",
            " [-2.13055547 -0.30217087  2.47299016  0.13579652 -1.55297655 -0.13703031\n",
            "  -0.20493347 -0.84515281 -0.07322663  0.57684989]\n",
            " [ 1.02339131 -1.42861093  0.39648908  0.37173368 -0.49621697  0.19616448\n",
            "  -0.32126188 -0.52671017  0.17480592  0.87866432]\n",
            " [-0.17885669 -0.04308853  0.54331725  0.7995919   0.94226091 -1.64119174\n",
            "  -1.32716654  0.84996135  0.9346848   0.26832665]\n",
            " [ 0.46356595 -0.77539242  0.50236316 -1.48646304 -0.89508572 -1.27919116\n",
            "  -1.34251622 -1.72711826 -1.1721827  -1.06314733]]\n"
          ],
          "name": "stdout"
        }
      ]
    },
    {
      "cell_type": "code",
      "metadata": {
        "id": "3u6OWT0_vOVp",
        "colab": {
          "base_uri": "https://localhost:8080/"
        },
        "outputId": "1a9d5184-398d-4005-bdfb-c960dbb2bf7e"
      },
      "source": [
        "# EXERCISE 6\n",
        "name = {'Rohit':000, 'Dhoni':000,'Kohli':000,'Ronaldo':000,'Messi':000}\n",
        "\n",
        "for keys in name:\n",
        "    name[keys] = input('Enter Hash code: ')\n",
        "print(name)\n",
        "second = {name['Rohit']:000, name['Dhoni']:000, name['Kohli']:000,name['Ronaldo']:000,name['Messi']:000}\n",
        "for keys in second:\n",
        "    second[keys] = input('Enter Mobile no.: ')\n",
        "print(second)\n",
        "n = int(input(\"Enter the no. of entries: \"))\n",
        "for i in range(0,n):66\n",
        "    a = input(\"Enter a new name: \")\n",
        "    name[a] = int(input(\"Enter hash value: \"))\n",
        "    second[name[a]] = int(input('Enter mob. no:'))\n",
        "print(name)\n",
        "m = int(input(\"Enter no. of entries to be deleted: \"))\n",
        "for i in range(0,m):\n",
        "    a = input(\"Enter name to be deleted: \")\n",
        "    del(name[a])\n",
        "print(name)"
      ],
      "execution_count": 2,
      "outputs": [
        {
          "output_type": "stream",
          "text": [
            "Enter Hash code: 111\n",
            "Enter Hash code: 222\n",
            "Enter Hash code: 333\n",
            "Enter Hash code: 444\n",
            "Enter Hash code: 555\n",
            "{'Rohit': '111', 'Dhoni': '222', 'Kohli': '333', 'Ronaldo': '444', 'Messi': '555'}\n",
            "Enter Mobile no.: 12\n",
            "Enter Mobile no.: 23\n",
            "Enter Mobile no.: 34\n",
            "Enter Mobile no.: 45\n",
            "Enter Mobile no.: 56\n",
            "{'111': '12', '222': '23', '333': '34', '444': '45', '555': '56'}\n",
            "Enter the no. of entries: 2\n",
            "Enter a new name: Shashank'\n",
            "Enter hash value: 666\n",
            "Enter mob. no:67\n",
            "Enter a new name: Ajgaonkar\n",
            "Enter hash value: 777\n",
            "Enter mob. no:78\n",
            "{'Rohit': '111', 'Dhoni': '222', 'Kohli': '333', 'Ronaldo': '444', 'Messi': '555', \"Shashank'\": 666, 'Ajgaonkar': 777}\n",
            "Enter no. of entries to be deleted: 2\n",
            "Enter name to be deleted: Rohit\n",
            "Enter name to be deleted: Dhoni\n",
            "{'Kohli': '333', 'Ronaldo': '444', 'Messi': '555', \"Shashank'\": 666, 'Ajgaonkar': 777}\n"
          ],
          "name": "stdout"
        }
      ]
    }
  ]
}