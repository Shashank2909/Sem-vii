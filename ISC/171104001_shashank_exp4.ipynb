{
  "nbformat": 4,
  "nbformat_minor": 0,
  "metadata": {
    "colab": {
      "name": "171104001_shashank_exp4.ipynb",
      "provenance": [],
      "include_colab_link": true
    },
    "kernelspec": {
      "name": "python3",
      "display_name": "Python 3"
    }
  },
  "cells": [
    {
      "cell_type": "markdown",
      "metadata": {
        "id": "view-in-github",
        "colab_type": "text"
      },
      "source": [
        "<a href=\"https://colab.research.google.com/github/Shashank2909/Sem-vii/blob/main/ISC/171104001_shashank_exp4.ipynb\" target=\"_parent\"><img src=\"https://colab.research.google.com/assets/colab-badge.svg\" alt=\"Open In Colab\"/></a>"
      ]
    },
    {
      "cell_type": "code",
      "metadata": {
        "id": "h-GQlK9HzXoT"
      },
      "source": [
        "import numpy as np"
      ],
      "execution_count": null,
      "outputs": []
    },
    {
      "cell_type": "code",
      "metadata": {
        "id": "JXnXnSKGzgbO",
        "colab": {
          "base_uri": "https://localhost:8080/",
          "height": 243
        },
        "outputId": "2aeed2bf-f783-4cbd-a166-a11569984938"
      },
      "source": [
        "x_input = np.array([[1,-2,1.5,0],[1,-0.5,-2,-1.5],[0,1,-1,1.5]])\n",
        "w = np.array([1,-1,0,0.5])\n",
        "c= 1\n",
        "print(f'w : {w}')\n",
        "for x in x_input:\n",
        "    x = np.array(x)\n",
        "    print(f'x :{x}')\n",
        "    \n",
        "    #net = sum(w.T * x)\n",
        "    net = w.T @ x\n",
        "    #net = np.dot(x,w.T)\n",
        "    print(f'net : {net}')\n",
        "    if net >= 0 :\n",
        "        f_net = 1\n",
        "    else:\n",
        "        f_net = -1\n",
        "    print(f'f(net): {f_net}')\n",
        "    w = w + c * f_net * x\n",
        "    print(f'NEW WEIGHTS : {w}')   "
      ],
      "execution_count": null,
      "outputs": [
        {
          "output_type": "stream",
          "text": [
            "w : [ 1.  -1.   0.   0.5]\n",
            "x :[ 1.  -2.   1.5  0. ]\n",
            "net : 3.0\n",
            "f(net): 1\n",
            "NEW WEIGHTS : [ 2.  -3.   1.5  0.5]\n",
            "x :[ 1.  -0.5 -2.  -1.5]\n",
            "net : -0.25\n",
            "f(net): -1\n",
            "NEW WEIGHTS : [ 1.  -2.5  3.5  2. ]\n",
            "x :[ 0.   1.  -1.   1.5]\n",
            "net : -3.0\n",
            "f(net): -1\n",
            "NEW WEIGHTS : [ 1.  -3.5  4.5  0.5]\n"
          ],
          "name": "stdout"
        }
      ]
    }
  ]
}