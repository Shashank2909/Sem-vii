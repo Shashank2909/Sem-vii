{
  "nbformat": 4,
  "nbformat_minor": 0,
  "metadata": {
    "colab": {
      "name": "171104001_shashank_exp4.ipynb",
      "provenance": [],
      "include_colab_link": true
    },
    "kernelspec": {
      "name": "python3",
      "display_name": "Python 3"
    }
  },
  "cells": [
    {
      "cell_type": "markdown",
      "metadata": {
        "id": "view-in-github",
        "colab_type": "text"
      },
      "source": [
        "<a href=\"https://colab.research.google.com/github/Shashank2909/Sem-vii/blob/main/ISC/171104001_shashank_exp4.ipynb\" target=\"_parent\"><img src=\"https://colab.research.google.com/assets/colab-badge.svg\" alt=\"Open In Colab\"/></a>"
      ]
    },
    {
      "cell_type": "code",
      "metadata": {
        "id": "h-GQlK9HzXoT"
      },
      "source": [
        "import numpy as np"
      ],
      "execution_count": null,
      "outputs": []
    },
    {
      "cell_type": "code",
      "metadata": {
        "id": "JXnXnSKGzgbO",
        "colab": {
          "base_uri": "https://localhost:8080/"
        },
        "outputId": "4fbfa57f-7c38-4f84-ab43-343124e91a04"
      },
      "source": [
        "x_input = np.array([[1,-2,1.5,0],[1,-0.5,-2,-1.5],[0,1,-1,1.5]])\n",
        "w = np.array([1,-1,0,0.5])\n",
        "c= 1\n",
        "print(f'w : {w}')\n",
        "epochs=5\n",
        "for n in range(epochs):\n",
        "  print(f'EPOCH-{n+1}')\n",
        "  for x in x_input:\n",
        "    print(f'x :{x}')\n",
        "    \n",
        "    net = w.T @ x\n",
        "    \n",
        "    print(f'net : {net}')\n",
        "    if net >= 0:\n",
        "        f_net = 1\n",
        "    else:\n",
        "        f_net = -1\n",
        "    print(f'f(net): {f_net}')\n",
        "    w = w + c * f_net * x\n",
        "    print(f'NEW WEIGHTS : {w}') \n",
        "  print('---------------------------')"
      ],
      "execution_count": 6,
      "outputs": [
        {
          "output_type": "stream",
          "text": [
            "w : [ 1.  -1.   0.   0.5]\n",
            "EPOCH-1\n",
            "x :[ 1.  -2.   1.5  0. ]\n",
            "net : 3.0\n",
            "f(net): 1\n",
            "NEW WEIGHTS : [ 2.  -3.   1.5  0.5]\n",
            "x :[ 1.  -0.5 -2.  -1.5]\n",
            "net : -0.25\n",
            "f(net): -1\n",
            "NEW WEIGHTS : [ 1.  -2.5  3.5  2. ]\n",
            "x :[ 0.   1.  -1.   1.5]\n",
            "net : -3.0\n",
            "f(net): -1\n",
            "NEW WEIGHTS : [ 1.  -3.5  4.5  0.5]\n",
            "---------------------------\n",
            "EPOCH-2\n",
            "x :[ 1.  -2.   1.5  0. ]\n",
            "net : 14.75\n",
            "f(net): 1\n",
            "NEW WEIGHTS : [ 2.  -5.5  6.   0.5]\n",
            "x :[ 1.  -0.5 -2.  -1.5]\n",
            "net : -8.0\n",
            "f(net): -1\n",
            "NEW WEIGHTS : [ 1. -5.  8.  2.]\n",
            "x :[ 0.   1.  -1.   1.5]\n",
            "net : -10.0\n",
            "f(net): -1\n",
            "NEW WEIGHTS : [ 1.  -6.   9.   0.5]\n",
            "---------------------------\n",
            "EPOCH-3\n",
            "x :[ 1.  -2.   1.5  0. ]\n",
            "net : 26.5\n",
            "f(net): 1\n",
            "NEW WEIGHTS : [ 2.  -8.  10.5  0.5]\n",
            "x :[ 1.  -0.5 -2.  -1.5]\n",
            "net : -15.75\n",
            "f(net): -1\n",
            "NEW WEIGHTS : [ 1.  -7.5 12.5  2. ]\n",
            "x :[ 0.   1.  -1.   1.5]\n",
            "net : -17.0\n",
            "f(net): -1\n",
            "NEW WEIGHTS : [ 1.  -8.5 13.5  0.5]\n",
            "---------------------------\n",
            "EPOCH-4\n",
            "x :[ 1.  -2.   1.5  0. ]\n",
            "net : 38.25\n",
            "f(net): 1\n",
            "NEW WEIGHTS : [  2.  -10.5  15.    0.5]\n",
            "x :[ 1.  -0.5 -2.  -1.5]\n",
            "net : -23.5\n",
            "f(net): -1\n",
            "NEW WEIGHTS : [  1. -10.  17.   2.]\n",
            "x :[ 0.   1.  -1.   1.5]\n",
            "net : -24.0\n",
            "f(net): -1\n",
            "NEW WEIGHTS : [  1.  -11.   18.    0.5]\n",
            "---------------------------\n",
            "EPOCH-5\n",
            "x :[ 1.  -2.   1.5  0. ]\n",
            "net : 50.0\n",
            "f(net): 1\n",
            "NEW WEIGHTS : [  2.  -13.   19.5   0.5]\n",
            "x :[ 1.  -0.5 -2.  -1.5]\n",
            "net : -31.25\n",
            "f(net): -1\n",
            "NEW WEIGHTS : [  1.  -12.5  21.5   2. ]\n",
            "x :[ 0.   1.  -1.   1.5]\n",
            "net : -31.0\n",
            "f(net): -1\n",
            "NEW WEIGHTS : [  1.  -13.5  22.5   0.5]\n",
            "---------------------------\n"
          ],
          "name": "stdout"
        }
      ]
    }
  ]
}