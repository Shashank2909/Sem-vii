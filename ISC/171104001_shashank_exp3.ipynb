{
  "nbformat": 4,
  "nbformat_minor": 0,
  "metadata": {
    "colab": {
      "name": "171104001_shashank_exp3.ipynb",
      "provenance": [],
      "authorship_tag": "ABX9TyMbcBxcs7IJXymAchCW6XCA"
    },
    "kernelspec": {
      "name": "python3",
      "display_name": "Python 3"
    }
  },
  "cells": [
    {
      "cell_type": "code",
      "metadata": {
        "id": "NImVT-MyjwyJ"
      },
      "source": [
        "# OR gate\n",
        "T = 1\n",
        "print('Please enter input values:')\n",
        "x1 = int(input('x1 = '))\n",
        "x2 = int(input('x2 = '))\n",
        "w1, w2 = 1, 1\n",
        "if x1*w1 + x2*w2 >= T:\n",
        "    print('Output = 1')\n",
        "else:\n",
        "    print('Output = 0')"
      ],
      "execution_count": null,
      "outputs": []
    },
    {
      "cell_type": "code",
      "metadata": {
        "id": "IYrlIuDKj1yo"
      },
      "source": [
        "# AND gate\n",
        "T = 2\n",
        "print('Please enter input values:')\n",
        "x1 = int(input('x1 = '))\n",
        "x2 = int(input('x2 = '))\n",
        "w1, w2 = 1, 1\n",
        "if x1*w1 + x2*w2 >= T:\n",
        "    print('Output = 1')\n",
        "else:\n",
        "    print('Output = 0')"
      ],
      "execution_count": null,
      "outputs": []
    },
    {
      "cell_type": "code",
      "metadata": {
        "id": "CwAnr4JrjoZW"
      },
      "source": [
        "# NOR gate\n",
        "T = 0\n",
        "print('Please enter input values:')\n",
        "x1 = int(input('x1 = '))\n",
        "x2 = int(input('x2 = '))\n",
        "w1, w2 = -1, -1\n",
        "if x1*w1 + x2*w2 >= T:\n",
        "    print('Output = 1')\n",
        "else:\n",
        "    print('Output = 0')"
      ],
      "execution_count": null,
      "outputs": []
    },
    {
      "cell_type": "code",
      "metadata": {
        "id": "jcNGacf0j8jr"
      },
      "source": [
        "# NAND gate\n",
        "T1, T2 = 2, 0\n",
        "print('Please enter input values:')\n",
        "x1 = int(input('x1 = '))\n",
        "x2 = int(input('x2 = '))\n",
        "w1, w2, w3 = 1, 1, -1\n",
        "if x1*w1 + x2*w2 >= T1:\n",
        "    out1 = 1\n",
        "else:\n",
        "    out1 = 0\n",
        "if out1*w3 >= T2:\n",
        "    print('Output = 1')\n",
        "else:\n",
        "    print('Output = 0')\n"
      ],
      "execution_count": null,
      "outputs": []
    },
    {
      "cell_type": "code",
      "metadata": {
        "id": "qaGsgZlcj560"
      },
      "source": [
        "# NOT gate\n",
        "T = 0\n",
        "w = -1\n",
        "print('Please enter input values:')\n",
        "x = int(input('x = '))\n",
        "if x*w >= T:\n",
        "    print('Output = 1')\n",
        "else:\n",
        "    print('Output = 0')"
      ],
      "execution_count": null,
      "outputs": []
    },
    {
      "cell_type": "code",
      "metadata": {
        "id": "KyZ6qd2nkOUj"
      },
      "source": [
        ""
      ],
      "execution_count": null,
      "outputs": []
    }
  ]
}