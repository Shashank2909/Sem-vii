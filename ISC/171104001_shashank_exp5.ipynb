{
  "nbformat": 4,
  "nbformat_minor": 0,
  "metadata": {
    "colab": {
      "name": "171104001_shashank_exp5.ipynb",
      "provenance": [],
      "include_colab_link": true
    },
    "kernelspec": {
      "name": "python3",
      "display_name": "Python 3"
    }
  },
  "cells": [
    {
      "cell_type": "markdown",
      "metadata": {
        "id": "view-in-github",
        "colab_type": "text"
      },
      "source": [
        "<a href=\"https://colab.research.google.com/github/Shashank2909/Sem-vii/blob/main/ISC/171104001_shashank_exp5.ipynb\" target=\"_parent\"><img src=\"https://colab.research.google.com/assets/colab-badge.svg\" alt=\"Open In Colab\"/></a>"
      ]
    },
    {
      "cell_type": "code",
      "metadata": {
        "id": "h-GQlK9HzXoT"
      },
      "source": [
        "import numpy as np"
      ],
      "execution_count": 1,
      "outputs": []
    },
    {
      "cell_type": "code",
      "metadata": {
        "id": "JXnXnSKGzgbO",
        "colab": {
          "base_uri": "https://localhost:8080/"
        },
        "outputId": "46992b8e-31a6-4f1d-a642-f44b435668b6"
      },
      "source": [
        "x_input = np.array([[1, -2, 0, -1], [0, 1.5, -0.5, -1], [-1, 1, 0.5, -1]])\n",
        "w = np.array([1,-1, 0, 0.5])\n",
        "c = 0.1\n",
        "d = [-1, -1, 1]\n",
        "print(f'w : {w}')\n",
        "epochs = 5\n",
        "for n in range(epochs):\n",
        "  i=0\n",
        "  print(f'EPOCH-{n+1}')\n",
        "  for x in x_input:\n",
        "    print(f'x :{x}')\n",
        "    \n",
        "    net = w.T @ x\n",
        "\n",
        "    print(f'net : {net}')\n",
        "    if net >= 0:\n",
        "        f_net = 1\n",
        "    else:\n",
        "        f_net = -1\n",
        "    print(f'f(net): {f_net}')\n",
        "    w = w + c *(d[i]-f_net) * x\n",
        "    i+=1\n",
        "    print(f'NEW WEIGHTS : {w}')  \n",
        "  print('----------------------------')"
      ],
      "execution_count": 4,
      "outputs": [
        {
          "output_type": "stream",
          "text": [
            "w : [ 1.  -1.   0.   0.5]\n",
            "EPOCH-1\n",
            "x :[ 1. -2.  0. -1.]\n",
            "net : 2.5\n",
            "f(net): 1\n",
            "NEW WEIGHTS : [ 0.8 -0.6  0.   0.7]\n",
            "x :[ 0.   1.5 -0.5 -1. ]\n",
            "net : -1.5999999999999999\n",
            "f(net): -1\n",
            "NEW WEIGHTS : [ 0.8 -0.6  0.   0.7]\n",
            "x :[-1.   1.   0.5 -1. ]\n",
            "net : -2.0999999999999996\n",
            "f(net): -1\n",
            "NEW WEIGHTS : [ 0.6 -0.4  0.1  0.5]\n",
            "----------------------------\n",
            "EPOCH-2\n",
            "x :[ 1. -2.  0. -1.]\n",
            "net : 0.8999999999999999\n",
            "f(net): 1\n",
            "NEW WEIGHTS : [4.00000000e-01 5.55111512e-17 1.00000000e-01 7.00000000e-01]\n",
            "x :[ 0.   1.5 -0.5 -1. ]\n",
            "net : -0.7499999999999999\n",
            "f(net): -1\n",
            "NEW WEIGHTS : [4.00000000e-01 5.55111512e-17 1.00000000e-01 7.00000000e-01]\n",
            "x :[-1.   1.   0.5 -1. ]\n",
            "net : -1.05\n",
            "f(net): -1\n",
            "NEW WEIGHTS : [0.2 0.2 0.2 0.5]\n",
            "----------------------------\n",
            "EPOCH-3\n",
            "x :[ 1. -2.  0. -1.]\n",
            "net : -0.7\n",
            "f(net): -1\n",
            "NEW WEIGHTS : [0.2 0.2 0.2 0.5]\n",
            "x :[ 0.   1.5 -0.5 -1. ]\n",
            "net : -0.2999999999999998\n",
            "f(net): -1\n",
            "NEW WEIGHTS : [0.2 0.2 0.2 0.5]\n",
            "x :[-1.   1.   0.5 -1. ]\n",
            "net : -0.3999999999999999\n",
            "f(net): -1\n",
            "NEW WEIGHTS : [5.55111512e-17 4.00000000e-01 3.00000000e-01 3.00000000e-01]\n",
            "----------------------------\n",
            "EPOCH-4\n",
            "x :[ 1. -2.  0. -1.]\n",
            "net : -1.1\n",
            "f(net): -1\n",
            "NEW WEIGHTS : [5.55111512e-17 4.00000000e-01 3.00000000e-01 3.00000000e-01]\n",
            "x :[ 0.   1.5 -0.5 -1. ]\n",
            "net : 0.15000000000000013\n",
            "f(net): 1\n",
            "NEW WEIGHTS : [5.55111512e-17 1.00000000e-01 4.00000000e-01 5.00000000e-01]\n",
            "x :[-1.   1.   0.5 -1. ]\n",
            "net : -0.19999999999999996\n",
            "f(net): -1\n",
            "NEW WEIGHTS : [-0.2  0.3  0.5  0.3]\n",
            "----------------------------\n",
            "EPOCH-5\n",
            "x :[ 1. -2.  0. -1.]\n",
            "net : -1.1\n",
            "f(net): -1\n",
            "NEW WEIGHTS : [-0.2  0.3  0.5  0.3]\n",
            "x :[ 0.   1.5 -0.5 -1. ]\n",
            "net : -0.09999999999999987\n",
            "f(net): -1\n",
            "NEW WEIGHTS : [-0.2  0.3  0.5  0.3]\n",
            "x :[-1.   1.   0.5 -1. ]\n",
            "net : 0.45000000000000007\n",
            "f(net): 1\n",
            "NEW WEIGHTS : [-0.2  0.3  0.5  0.3]\n",
            "----------------------------\n"
          ],
          "name": "stdout"
        }
      ]
    }
  ]
}