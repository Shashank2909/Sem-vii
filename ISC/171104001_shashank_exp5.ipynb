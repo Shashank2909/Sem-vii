{
  "nbformat": 4,
  "nbformat_minor": 0,
  "metadata": {
    "colab": {
      "name": "171104001_shashank_exp5.ipynb",
      "provenance": [],
      "include_colab_link": true
    },
    "kernelspec": {
      "name": "python3",
      "display_name": "Python 3"
    }
  },
  "cells": [
    {
      "cell_type": "markdown",
      "metadata": {
        "id": "view-in-github",
        "colab_type": "text"
      },
      "source": [
        "<a href=\"https://colab.research.google.com/github/Shashank2909/Sem-vii/blob/main/ISC/171104001_shashank_exp5.ipynb\" target=\"_parent\"><img src=\"https://colab.research.google.com/assets/colab-badge.svg\" alt=\"Open In Colab\"/></a>"
      ]
    },
    {
      "cell_type": "code",
      "metadata": {
        "id": "h-GQlK9HzXoT"
      },
      "source": [
        "import numpy as np"
      ],
      "execution_count": 2,
      "outputs": []
    },
    {
      "cell_type": "code",
      "metadata": {
        "id": "JXnXnSKGzgbO",
        "colab": {
          "base_uri": "https://localhost:8080/"
        },
        "outputId": "133dd356-88f3-4b8f-9946-93b238ba1117"
      },
      "source": [
        "x_input = np.array([[1, -2, 0, -1], [0, 1.5, -0.5, -1], [-1, 1, 0.5, -1]])\n",
        "w = np.array([1,-1, 0, 0.5])\n",
        "c = 0.1\n",
        "d = [-1, -1, 1]\n",
        "print(f'w : {w}')\n",
        "i=0\n",
        "for x in x_input:\n",
        "    x = np.array(x)\n",
        "    print(f'x :{x}')\n",
        "    \n",
        "    #net = sum(w.T * x)\n",
        "    net = w.T @ x\n",
        "    #net = np.dot(x,w.T)\n",
        "    print(f'net : {net}')\n",
        "    if net >= 0 :\n",
        "        f_net = 1\n",
        "    else:\n",
        "        f_net = -1\n",
        "    print(f'f(net): {f_net}')\n",
        "    w = w + c *(d[i]-f_net) * x\n",
        "    i+=1\n",
        "    print(f'NEW WEIGHTS : {w}')   "
      ],
      "execution_count": 3,
      "outputs": [
        {
          "output_type": "stream",
          "text": [
            "w : [ 1.  -1.   0.   0.5]\n",
            "x :[ 1. -2.  0. -1.]\n",
            "net : 2.5\n",
            "f(net): 1\n",
            "NEW WEIGHTS : [ 0.8 -0.6  0.   0.7]\n",
            "x :[ 0.   1.5 -0.5 -1. ]\n",
            "net : -1.5999999999999999\n",
            "f(net): -1\n",
            "NEW WEIGHTS : [ 0.8 -0.6  0.   0.7]\n",
            "x :[-1.   1.   0.5 -1. ]\n",
            "net : -2.0999999999999996\n",
            "f(net): -1\n",
            "NEW WEIGHTS : [ 0.6 -0.4  0.1  0.5]\n"
          ],
          "name": "stdout"
        }
      ]
    },
    {
      "cell_type": "code",
      "metadata": {
        "id": "ZaQXD37Ldxif"
      },
      "source": [
        "w = [1, -1, 0, 0.5]\r\n",
        "C = 0.1\r\n",
        "D = [-1, -1, 1]"
      ],
      "execution_count": null,
      "outputs": []
    }
  ]
}