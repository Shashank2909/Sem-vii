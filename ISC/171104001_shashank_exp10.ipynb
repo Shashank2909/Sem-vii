{
  "nbformat": 4,
  "nbformat_minor": 0,
  "metadata": {
    "colab": {
      "name": "171104001_shashank_exp10.ipynb",
      "provenance": [],
      "include_colab_link": true
    },
    "kernelspec": {
      "name": "python3",
      "display_name": "Python 3"
    }
  },
  "cells": [
    {
      "cell_type": "markdown",
      "metadata": {
        "id": "view-in-github",
        "colab_type": "text"
      },
      "source": [
        "<a href=\"https://colab.research.google.com/github/Shashank2909/Sem-vii/blob/main/ISC/171104001_shashank_exp10.ipynb\" target=\"_parent\"><img src=\"https://colab.research.google.com/assets/colab-badge.svg\" alt=\"Open In Colab\"/></a>"
      ]
    },
    {
      "cell_type": "code",
      "metadata": {
        "id": "h-GQlK9HzXoT"
      },
      "source": [
        "import numpy as np"
      ],
      "execution_count": 2,
      "outputs": []
    },
    {
      "cell_type": "code",
      "metadata": {
        "id": "JXnXnSKGzgbO"
      },
      "source": [
        "training_set = np.array([[1, 1, 1], [-1, -1, -1], [1, -1, -1]])\n",
        "P = len(training_set)\n",
        "W = np.empty_like(training_set, dtype=float)\n",
        "I = np.array([0.5, 0.6, 0.1])\n",
        "\n",
        "def ramp(x):\n",
        "  return np.maximum(-1, np.minimum(1, x))\n",
        "\n",
        "for i in range(P):\n",
        "  for j in range(P):\n",
        "    W[i][j] = np.sum(training_set[:, i] * training_set[:, j]) / P\n",
        "        \n",
        "print('weights:\\n', W)\n",
        "print('\\ncorrupted input:\\n', I)\n",
        "\n",
        "while(I not in training_set):\n",
        "  I = ramp(W.T @ I)\n",
        "    \n",
        "print('\\ncorrected input:\\n', I)"
      ],
      "execution_count": null,
      "outputs": []
    }
  ]
}