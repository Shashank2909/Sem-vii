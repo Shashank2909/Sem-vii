{
  "nbformat": 4,
  "nbformat_minor": 0,
  "metadata": {
    "colab": {
      "name": "171104001_shashank_exp9.ipynb",
      "provenance": [],
      "include_colab_link": true
    },
    "kernelspec": {
      "name": "python3",
      "display_name": "Python 3"
    }
  },
  "cells": [
    {
      "cell_type": "markdown",
      "metadata": {
        "id": "view-in-github",
        "colab_type": "text"
      },
      "source": [
        "<a href=\"https://colab.research.google.com/github/Shashank2909/Sem-vii/blob/main/ISC/171104001_shashank_exp9.ipynb\" target=\"_parent\"><img src=\"https://colab.research.google.com/assets/colab-badge.svg\" alt=\"Open In Colab\"/></a>"
      ]
    },
    {
      "cell_type": "code",
      "metadata": {
        "id": "h-GQlK9HzXoT"
      },
      "source": [
        "import numpy as np"
      ],
      "execution_count": 3,
      "outputs": []
    },
    {
      "cell_type": "code",
      "metadata": {
        "id": "JXnXnSKGzgbO"
      },
      "source": [
        "X = np.array([[1.1, 1.7, 1.8],\n",
        "              [0.0, 0.0, 0.0],\n",
        "              [0.0, 0.5, 1.5],\n",
        "              [1.0, 0.0, 0.0],\n",
        "              [0.5, 0.5, 0.5],\n",
        "              [1.0, 1.0, 1.0]])\n",
        "\n",
        "W = np.array([[0.2, 0.7, 0.3],\n",
        "              [0.1, 0.1, 0.9],\n",
        "              [1.0, 1.0, 1.0]])\n",
        "N = 0.5\n",
        "\n",
        "for x in X:\n",
        "    d = []\n",
        "    for w in W:\n",
        "        tmp = x-w\n",
        "        d.append(tmp.T @ tmp)\n",
        "    i = np.argmin(d)\n",
        "    W[i] += N * (x - W[i])\n",
        "    print(W, '\\n')"
      ],
      "execution_count": null,
      "outputs": []
    }
  ]
}